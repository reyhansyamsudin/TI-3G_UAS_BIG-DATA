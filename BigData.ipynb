{
  "nbformat": 4,
  "nbformat_minor": 0,
  "metadata": {
    "colab": {
      "name": "Untitled3.ipynb",
      "provenance": []
    },
    "kernelspec": {
      "name": "python3",
      "display_name": "Python 3"
    },
    "language_info": {
      "name": "python"
    }
  },
  "cells": [
    {
      "cell_type": "markdown",
      "source": [
        "Nama : Reyhan Syamsudin\n",
        "\n",
        "Kelas : TI - 3G / 27\n",
        "\n",
        "NIM : 1941720210\n",
        "\n",
        "Ujian Akhir Semester (UAS)"
      ],
      "metadata": {
        "id": "R29Dfb90RchP"
      }
    },
    {
      "cell_type": "markdown",
      "source": [
        "Menginstall JDK"
      ],
      "metadata": {
        "id": "VZUGiuP3RiU-"
      }
    },
    {
      "cell_type": "code",
      "execution_count": 2,
      "metadata": {
        "id": "WdMbxyG1J38s"
      },
      "outputs": [],
      "source": [
        "!apt-get install openjdk-8-jdk-headless -qq > /dev/null"
      ]
    },
    {
      "cell_type": "markdown",
      "source": [
        "Selanjutnya Install Apache Spark Version"
      ],
      "metadata": {
        "id": "bvZ-1pXKRr23"
      }
    },
    {
      "cell_type": "code",
      "source": [
        "!wget -q https://dlcdn.apache.org/spark/spark-3.2.1/spark-3.2.1-bin-hadoop3.2.tgz\n",
        "!tar xf spark-3.2.1-bin-hadoop3.2.tgz"
      ],
      "metadata": {
        "id": "CBHMhzTUNgM5"
      },
      "execution_count": 3,
      "outputs": []
    },
    {
      "cell_type": "markdown",
      "source": [
        "instalasi Pyspark Pada Google Collaboratory, dan Mencoba untuk Menampilkan Data Yang akan di Analisa."
      ],
      "metadata": {
        "id": "P7y6aL93RxI_"
      }
    },
    {
      "cell_type": "code",
      "source": [
        "!pip install -q findspark"
      ],
      "metadata": {
        "id": "ACCwAg1gNnSC"
      },
      "execution_count": 4,
      "outputs": []
    },
    {
      "cell_type": "code",
      "source": [
        "import os\n",
        "os.environ[\"JAVA_HOME\"] = \"/usr/lib/jvm/java-8-openjdk-amd64\"\n",
        "os.environ[\"SPARK_HOME\"] = \"/content/spark-3.2.1-bin-hadoop3.2\""
      ],
      "metadata": {
        "id": "ubZWiOPgNyBn"
      },
      "execution_count": 5,
      "outputs": []
    },
    {
      "cell_type": "code",
      "source": [
        "import findspark\n",
        "findspark.init()"
      ],
      "metadata": {
        "id": "jwbvnWTgN3sL"
      },
      "execution_count": 11,
      "outputs": []
    },
    {
      "cell_type": "code",
      "source": [
        "from pyspark.sql import SparkSession\n",
        "spark = SparkSession.builder\\\n",
        ".master(\"local\")\\\n",
        ".appName(\"Colab\")\\\n",
        ".config('spark.ui.port', '4050')\\\n",
        ".getOrCreate()"
      ],
      "metadata": {
        "id": "kruri1ioQi9G"
      },
      "execution_count": 12,
      "outputs": []
    },
    {
      "cell_type": "code",
      "source": [
        "df = spark.createDataFrame([{\"hello\": \"world\"} for x in range(1000)])\n",
        "df.show(3)"
      ],
      "metadata": {
        "colab": {
          "base_uri": "https://localhost:8080/"
        },
        "id": "kaesGll0QnbO",
        "outputId": "f9f92ee9-6b36-42a6-8061-261beaa14940"
      },
      "execution_count": 13,
      "outputs": [
        {
          "output_type": "stream",
          "name": "stdout",
          "text": [
            "+-----+\n",
            "|hello|\n",
            "+-----+\n",
            "|world|\n",
            "|world|\n",
            "|world|\n",
            "+-----+\n",
            "only showing top 3 rows\n",
            "\n"
          ]
        }
      ]
    },
    {
      "cell_type": "code",
      "source": [
        "df = spark.read.format(\"csv\").option(\"header\", \"True\", ).load(\"/content/Top YouTube Channels Data .csv\")\n",
        "df.printSchema()"
      ],
      "metadata": {
        "colab": {
          "base_uri": "https://localhost:8080/"
        },
        "id": "WPwxrgFQQtw-",
        "outputId": "f4a5e23c-a6ca-40e6-8e34-80fb6f752eb3"
      },
      "execution_count": 14,
      "outputs": [
        {
          "output_type": "stream",
          "name": "stdout",
          "text": [
            "root\n",
            " |-- rank : string (nullable = true)\n",
            " |-- youtuber: string (nullable = true)\n",
            " |-- subscribers : string (nullable = true)\n",
            " |-- video views : string (nullable = true)\n",
            " |-- video count : string (nullable = true)\n",
            " |-- category : string (nullable = true)\n",
            " |-- started : string (nullable = true)\n",
            "\n"
          ]
        }
      ]
    },
    {
      "cell_type": "code",
      "source": [
        "df.show()"
      ],
      "metadata": {
        "colab": {
          "base_uri": "https://localhost:8080/"
        },
        "id": "Gw_Wuc2kQ1Np",
        "outputId": "2673d8a8-7471-4b04-8c06-fb1cea5eedfa"
      },
      "execution_count": 15,
      "outputs": [
        {
          "output_type": "stream",
          "name": "stdout",
          "text": [
            "+-----+--------------------+------------+---------------+------------+-----------------+--------+\n",
            "|rank |            youtuber|subscribers |   video views |video count |        category |started |\n",
            "+-----+--------------------+------------+---------------+------------+-----------------+--------+\n",
            "|    1|           T-Series |   213000000|188,073,919,029|       16708|           Music |    2006|\n",
            "|    2|     YouTube Movies |   150000000|167,122,746,349|        null|Film & Animation |    2015|\n",
            "|    3|Cocomelon - Nurse...|   133000000|126,822,520,940|         751|       Education |    2006|\n",
            "|    4|          SET India |   131000000|101,541,977,714|       78334|           Shows |    2006|\n",
            "|    5|              Music |   116000000| 78,437,871,689|        null|           Music |    2013|\n",
            "|    6|          PewDiePie |   111000000| 28,260,779,633|        4472|          Gaming |    2010|\n",
            "|    7|            MrBeast |    93900000| 15,417,304,461|         721|   Entertainment |    2012|\n",
            "|    8|    Kids Diana Show |    93800000| 73,296,417,664|         977|  People & Blogs |    2015|\n",
            "|    9|             Gaming |    92100000| 71,692,471,446|        null|          Gaming |    2013|\n",
            "|   10|         Like Nastya|    91000000| 74,204,846,514|         670|  People & Blogs |    2016|\n",
            "|   11|                WWE |    87600000| 67,960,479,071|       60699|          Sports |    2007|\n",
            "|   12|  Zee Music Company |    83300000| 46,291,230,294|        6265|           Music |    2014|\n",
            "|   13|      Vlad and Niki |    80900000| 62,444,514,631|         443|   Entertainment |    2018|\n",
            "|   14|     5-Minute Crafts|    76300000| 23,174,639,387|        5281|  How to & Style |    2016|\n",
            "|   15|             Sports |    75100000| 22,156,639,371|        null|          Sports |    2013|\n",
            "|   16|          BLACKPINK |    73600000| 23,351,994,944|         394|  People & Blogs |    2016|\n",
            "|   17|          Goldmines |    68800000| 16,271,446,682|        3050|Film & Animation |    2012|\n",
            "|   18|      Justin Bieber |    68400000| 27,701,817,623|         243|           Music |    2007|\n",
            "|   19|           Sony SAB |    65900000| 75,885,489,073|       50810|           Shows |    2007|\n",
            "|   20|     Canal KondZilla|    65600000| 36,145,092,618|        2252|           Music |    2012|\n",
            "+-----+--------------------+------------+---------------+------------+-----------------+--------+\n",
            "only showing top 20 rows\n",
            "\n"
          ]
        }
      ]
    },
    {
      "cell_type": "code",
      "source": [
        "from pyspark.sql import functions as F"
      ],
      "metadata": {
        "id": "VowKyEl2Q5vj"
      },
      "execution_count": 16,
      "outputs": []
    },
    {
      "cell_type": "code",
      "source": [
        "df.select(\"youtuber\", \"started \").sort(F.col(\"started \").asc()).show(10, False)"
      ],
      "metadata": {
        "colab": {
          "base_uri": "https://localhost:8080/"
        },
        "id": "k_wDStU2Q_R-",
        "outputId": "e97d749c-47a4-4747-8117-c16a82bd544a"
      },
      "execution_count": 17,
      "outputs": [
        {
          "output_type": "stream",
          "name": "stdout",
          "text": [
            "+---------------------------+--------+\n",
            "|youtuber                   |started |\n",
            "+---------------------------+--------+\n",
            "|YouTube                    |1970    |\n",
            "|Rihanna                    |2005    |\n",
            "|Zee TV                     |2005    |\n",
            "|Ishtar Music               |2005    |\n",
            "|Shakira                    |2005    |\n",
            "|Felipe Neto                |2006    |\n",
            "|T-Series                   |2006    |\n",
            "|Movieclips                 |2006    |\n",
            "|Cocomelon - Nursery Rhymes |2006    |\n",
            "|YRF                        |2006    |\n",
            "+---------------------------+--------+\n",
            "only showing top 10 rows\n",
            "\n"
          ]
        }
      ]
    },
    {
      "cell_type": "code",
      "source": [
        "df.select(\"youtuber\", \"video count \").sort(F.col(\"video count \").cast('int').desc()).show(10, False)"
      ],
      "metadata": {
        "colab": {
          "base_uri": "https://localhost:8080/"
        },
        "id": "bWHntUlbRDd6",
        "outputId": "bbaeac5c-a46f-4bb8-9e4f-7a7e696b4c38"
      },
      "execution_count": 18,
      "outputs": [
        {
          "output_type": "stream",
          "name": "stdout",
          "text": [
            "+----------------------+------------+\n",
            "|youtuber              |video count |\n",
            "+----------------------+------------+\n",
            "|ABP News              |209351      |\n",
            "|TEDx Talks            |179816      |\n",
            "|Aaj Tak               |175877      |\n",
            "|ABS-CBN Entertainment |173988      |\n",
            "|one31                 |122287      |\n",
            "|Colors TV             |78851       |\n",
            "|SET India             |78334       |\n",
            "|WWE                   |60699       |\n",
            "|Zee TV                |59332       |\n",
            "|WorkpointOfficial     |58916       |\n",
            "+----------------------+------------+\n",
            "only showing top 10 rows\n",
            "\n"
          ]
        }
      ]
    },
    {
      "cell_type": "code",
      "source": [
        "df.select(\"youtuber\", \"video views \").sort(F.col(\"video views \").asc()).show(10, False)"
      ],
      "metadata": {
        "colab": {
          "base_uri": "https://localhost:8080/"
        },
        "id": "130xDp3IRJ5O",
        "outputId": "4e76efa2-e317-49c1-d770-3e79de5a0783"
      },
      "execution_count": 19,
      "outputs": [
        {
          "output_type": "stream",
          "name": "stdout",
          "text": [
            "+----------------------------+---------------+\n",
            "|youtuber                    |video views    |\n",
            "+----------------------------+---------------+\n",
            "|SET India                   |101,541,977,714|\n",
            "|Alan Walker                 |11,358,287,657 |\n",
            "|Billie Eilish               |11,412,714,912 |\n",
            "|One Direction               |12,395,170,322 |\n",
            "|Marshmello                  |12,967,930,243 |\n",
            "|Cocomelon - Nursery Rhymes  |126,822,520,940|\n",
            "|JuegaGerman                 |13,400,179,485 |\n",
            "|Goldmines Gaane Sune Ansune |13,405,543,587 |\n",
            "|Ishtar Music                |14,208,873,860 |\n",
            "|Dude Perfect                |14,219,518,587 |\n",
            "+----------------------------+---------------+\n",
            "only showing top 10 rows\n",
            "\n"
          ]
        }
      ]
    },
    {
      "cell_type": "code",
      "source": [
        "!pip install findspark"
      ],
      "metadata": {
        "colab": {
          "base_uri": "https://localhost:8080/"
        },
        "id": "V4JSBw08OObn",
        "outputId": "4b7a2c0c-74fa-409c-b790-00c1f4d878dc"
      },
      "execution_count": 7,
      "outputs": [
        {
          "output_type": "stream",
          "name": "stdout",
          "text": [
            "Looking in indexes: https://pypi.org/simple, https://us-python.pkg.dev/colab-wheels/public/simple/\n",
            "Requirement already satisfied: findspark in /usr/local/lib/python3.7/dist-packages (2.0.1)\n"
          ]
        }
      ]
    }
  ]
}